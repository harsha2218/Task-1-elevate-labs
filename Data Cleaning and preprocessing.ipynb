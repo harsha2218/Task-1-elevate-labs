{
 "cells": [
  {
   "cell_type": "markdown",
   "id": "a8178f72-be80-4c66-8b93-6d0f103cf197",
   "metadata": {},
   "source": [
    "# sales_data  - data cleaning and preprocessing"
   ]
  },
  {
   "cell_type": "code",
   "execution_count": 8,
   "id": "b9cc484b-2709-415f-a200-d25ad138c74d",
   "metadata": {},
   "outputs": [],
   "source": [
    "import pandas as pd"
   ]
  },
  {
   "cell_type": "code",
   "execution_count": 9,
   "id": "2b5625ff-0f79-4ec9-a39b-8a7dbbf4a912",
   "metadata": {},
   "outputs": [],
   "source": [
    "# Load dataset\n",
    "file_path = 'sales_data.csv'  \n",
    "df = pd.read_csv(file_path)"
   ]
  },
  {
   "cell_type": "code",
   "execution_count": 10,
   "id": "c56b4259-9a2d-4ae8-9995-debb381d2347",
   "metadata": {},
   "outputs": [
    {
     "data": {
      "text/html": [
       "<div>\n",
       "<style scoped>\n",
       "    .dataframe tbody tr th:only-of-type {\n",
       "        vertical-align: middle;\n",
       "    }\n",
       "\n",
       "    .dataframe tbody tr th {\n",
       "        vertical-align: top;\n",
       "    }\n",
       "\n",
       "    .dataframe thead th {\n",
       "        text-align: right;\n",
       "    }\n",
       "</style>\n",
       "<table border=\"1\" class=\"dataframe\">\n",
       "  <thead>\n",
       "    <tr style=\"text-align: right;\">\n",
       "      <th></th>\n",
       "      <th>Product_ID</th>\n",
       "      <th>Sale_Date</th>\n",
       "      <th>Sales_Rep</th>\n",
       "      <th>Region</th>\n",
       "      <th>Sales_Amount</th>\n",
       "      <th>Quantity_Sold</th>\n",
       "      <th>Product_Category</th>\n",
       "      <th>Unit_Cost</th>\n",
       "      <th>Unit_Price</th>\n",
       "      <th>Customer_Type</th>\n",
       "      <th>Discount</th>\n",
       "      <th>Payment_Method</th>\n",
       "      <th>Sales_Channel</th>\n",
       "      <th>Region_and_Sales_Rep</th>\n",
       "    </tr>\n",
       "  </thead>\n",
       "  <tbody>\n",
       "    <tr>\n",
       "      <th>0</th>\n",
       "      <td>1052</td>\n",
       "      <td>2023-02-03</td>\n",
       "      <td>Bob</td>\n",
       "      <td>North</td>\n",
       "      <td>5053.97</td>\n",
       "      <td>18</td>\n",
       "      <td>Furniture</td>\n",
       "      <td>152.75</td>\n",
       "      <td>267.22</td>\n",
       "      <td>Returning</td>\n",
       "      <td>0.09</td>\n",
       "      <td>Cash</td>\n",
       "      <td>Online</td>\n",
       "      <td>North-Bob</td>\n",
       "    </tr>\n",
       "    <tr>\n",
       "      <th>1</th>\n",
       "      <td>1093</td>\n",
       "      <td>2023-04-21</td>\n",
       "      <td>Bob</td>\n",
       "      <td>West</td>\n",
       "      <td>4384.02</td>\n",
       "      <td>17</td>\n",
       "      <td>Furniture</td>\n",
       "      <td>3816.39</td>\n",
       "      <td>4209.44</td>\n",
       "      <td>Returning</td>\n",
       "      <td>0.11</td>\n",
       "      <td>Cash</td>\n",
       "      <td>Retail</td>\n",
       "      <td>West-Bob</td>\n",
       "    </tr>\n",
       "    <tr>\n",
       "      <th>2</th>\n",
       "      <td>1015</td>\n",
       "      <td>2023-09-21</td>\n",
       "      <td>David</td>\n",
       "      <td>South</td>\n",
       "      <td>4631.23</td>\n",
       "      <td>30</td>\n",
       "      <td>Food</td>\n",
       "      <td>261.56</td>\n",
       "      <td>371.40</td>\n",
       "      <td>Returning</td>\n",
       "      <td>0.20</td>\n",
       "      <td>Bank Transfer</td>\n",
       "      <td>Retail</td>\n",
       "      <td>South-David</td>\n",
       "    </tr>\n",
       "    <tr>\n",
       "      <th>3</th>\n",
       "      <td>1072</td>\n",
       "      <td>2023-08-24</td>\n",
       "      <td>Bob</td>\n",
       "      <td>South</td>\n",
       "      <td>2167.94</td>\n",
       "      <td>39</td>\n",
       "      <td>Clothing</td>\n",
       "      <td>4330.03</td>\n",
       "      <td>4467.75</td>\n",
       "      <td>New</td>\n",
       "      <td>0.02</td>\n",
       "      <td>Credit Card</td>\n",
       "      <td>Retail</td>\n",
       "      <td>South-Bob</td>\n",
       "    </tr>\n",
       "    <tr>\n",
       "      <th>4</th>\n",
       "      <td>1061</td>\n",
       "      <td>2023-03-24</td>\n",
       "      <td>Charlie</td>\n",
       "      <td>East</td>\n",
       "      <td>3750.20</td>\n",
       "      <td>13</td>\n",
       "      <td>Electronics</td>\n",
       "      <td>637.37</td>\n",
       "      <td>692.71</td>\n",
       "      <td>New</td>\n",
       "      <td>0.08</td>\n",
       "      <td>Credit Card</td>\n",
       "      <td>Online</td>\n",
       "      <td>East-Charlie</td>\n",
       "    </tr>\n",
       "  </tbody>\n",
       "</table>\n",
       "</div>"
      ],
      "text/plain": [
       "   Product_ID   Sale_Date Sales_Rep Region  Sales_Amount  Quantity_Sold  \\\n",
       "0        1052  2023-02-03       Bob  North       5053.97             18   \n",
       "1        1093  2023-04-21       Bob   West       4384.02             17   \n",
       "2        1015  2023-09-21     David  South       4631.23             30   \n",
       "3        1072  2023-08-24       Bob  South       2167.94             39   \n",
       "4        1061  2023-03-24   Charlie   East       3750.20             13   \n",
       "\n",
       "  Product_Category  Unit_Cost  Unit_Price Customer_Type  Discount  \\\n",
       "0        Furniture     152.75      267.22     Returning      0.09   \n",
       "1        Furniture    3816.39     4209.44     Returning      0.11   \n",
       "2             Food     261.56      371.40     Returning      0.20   \n",
       "3         Clothing    4330.03     4467.75           New      0.02   \n",
       "4      Electronics     637.37      692.71           New      0.08   \n",
       "\n",
       "  Payment_Method Sales_Channel Region_and_Sales_Rep  \n",
       "0           Cash        Online            North-Bob  \n",
       "1           Cash        Retail             West-Bob  \n",
       "2  Bank Transfer        Retail          South-David  \n",
       "3    Credit Card        Retail            South-Bob  \n",
       "4    Credit Card        Online         East-Charlie  "
      ]
     },
     "execution_count": 10,
     "metadata": {},
     "output_type": "execute_result"
    }
   ],
   "source": [
    "df.head()"
   ]
  },
  {
   "cell_type": "markdown",
   "id": "6d6ba59e-34c8-4038-bfb0-f614dd49747a",
   "metadata": {},
   "source": [
    "#### Checking non-null count ,datatypes and missing values"
   ]
  },
  {
   "cell_type": "code",
   "execution_count": 11,
   "id": "52509510-6d98-4ea6-b3e9-bca6f7cc6190",
   "metadata": {},
   "outputs": [
    {
     "name": "stdout",
     "output_type": "stream",
     "text": [
      "<class 'pandas.core.frame.DataFrame'>\n",
      "RangeIndex: 1000 entries, 0 to 999\n",
      "Data columns (total 14 columns):\n",
      " #   Column                Non-Null Count  Dtype  \n",
      "---  ------                --------------  -----  \n",
      " 0   Product_ID            1000 non-null   int64  \n",
      " 1   Sale_Date             1000 non-null   object \n",
      " 2   Sales_Rep             1000 non-null   object \n",
      " 3   Region                1000 non-null   object \n",
      " 4   Sales_Amount          1000 non-null   float64\n",
      " 5   Quantity_Sold         1000 non-null   int64  \n",
      " 6   Product_Category      1000 non-null   object \n",
      " 7   Unit_Cost             1000 non-null   float64\n",
      " 8   Unit_Price            1000 non-null   float64\n",
      " 9   Customer_Type         1000 non-null   object \n",
      " 10  Discount              1000 non-null   float64\n",
      " 11  Payment_Method        1000 non-null   object \n",
      " 12  Sales_Channel         1000 non-null   object \n",
      " 13  Region_and_Sales_Rep  1000 non-null   object \n",
      "dtypes: float64(4), int64(2), object(8)\n",
      "memory usage: 109.5+ KB\n"
     ]
    }
   ],
   "source": [
    "df.info()"
   ]
  },
  {
   "cell_type": "code",
   "execution_count": 12,
   "id": "1357856e-faf7-45d6-9b9e-78be713f4dcc",
   "metadata": {},
   "outputs": [
    {
     "name": "stdout",
     "output_type": "stream",
     "text": [
      "False\n"
     ]
    }
   ],
   "source": [
    "print(df.isnull().values.any())"
   ]
  },
  {
   "cell_type": "markdown",
   "id": "e7d371ae-ceb0-47b8-9816-d9f19c00a6f0",
   "metadata": {},
   "source": [
    "#### Convert Sale_Date object type to datetime\n"
   ]
  },
  {
   "cell_type": "code",
   "execution_count": 13,
   "id": "8d76ffc1-f111-46bf-ac39-49044949e070",
   "metadata": {},
   "outputs": [],
   "source": [
    "df['Sale_Date'] = pd.to_datetime(df['Sale_Date'], errors='coerce')"
   ]
  },
  {
   "cell_type": "code",
   "execution_count": 14,
   "id": "b1e86d8e-bc3b-439e-b102-0261ea83bac5",
   "metadata": {},
   "outputs": [
    {
     "data": {
      "text/plain": [
       "dtype('<M8[ns]')"
      ]
     },
     "execution_count": 14,
     "metadata": {},
     "output_type": "execute_result"
    }
   ],
   "source": [
    "df['Sale_Date'].dtype"
   ]
  },
  {
   "cell_type": "code",
   "execution_count": 15,
   "id": "127ef49f-b525-4d15-ac63-701c73d8d186",
   "metadata": {},
   "outputs": [
    {
     "name": "stdout",
     "output_type": "stream",
     "text": [
      "     Product_ID   Sale_Date Sales_Rep Region  Sales_Amount  Quantity_Sold  \\\n",
      "0          1052  03-02-2023       Bob  North       5053.97             18   \n",
      "1          1093  21-04-2023       Bob   West       4384.02             17   \n",
      "2          1015  21-09-2023     David  South       4631.23             30   \n",
      "3          1072  24-08-2023       Bob  South       2167.94             39   \n",
      "4          1061  24-03-2023   Charlie   East       3750.20             13   \n",
      "..          ...         ...       ...    ...           ...            ...   \n",
      "995        1010  15-04-2023   Charlie  North       4733.88              4   \n",
      "996        1067  07-09-2023       Bob  North       4716.36             37   \n",
      "997        1018  27-04-2023     David  South       7629.70             17   \n",
      "998        1100  20-12-2023     David   West       1629.47             39   \n",
      "999        1086  16-08-2023     Alice   East       4923.93             48   \n",
      "\n",
      "    Product_Category  Unit_Cost  Unit_Price Customer_Type  Discount  \\\n",
      "0          Furniture     152.75      267.22     Returning      0.09   \n",
      "1          Furniture    3816.39     4209.44     Returning      0.11   \n",
      "2               Food     261.56      371.40     Returning      0.20   \n",
      "3           Clothing    4330.03     4467.75           New      0.02   \n",
      "4        Electronics     637.37      692.71           New      0.08   \n",
      "..               ...        ...         ...           ...       ...   \n",
      "995             Food    4943.03     5442.15     Returning      0.29   \n",
      "996         Clothing    1754.32     1856.40           New      0.21   \n",
      "997         Clothing     355.72      438.27     Returning      0.06   \n",
      "998      Electronics    3685.03     3743.39           New      0.01   \n",
      "999             Food    2632.58     2926.68     Returning      0.14   \n",
      "\n",
      "    Payment_Method Sales_Channel Region_and_Sales_Rep  \n",
      "0             Cash        Online            North-Bob  \n",
      "1             Cash        Retail             West-Bob  \n",
      "2    Bank Transfer        Retail          South-David  \n",
      "3      Credit Card        Retail            South-Bob  \n",
      "4      Credit Card        Online         East-Charlie  \n",
      "..             ...           ...                  ...  \n",
      "995           Cash        Online        North-Charlie  \n",
      "996  Bank Transfer        Retail            North-Bob  \n",
      "997  Bank Transfer        Online          South-David  \n",
      "998  Bank Transfer        Online           West-David  \n",
      "999           Cash        Online           East-Alice  \n",
      "\n",
      "[1000 rows x 14 columns]\n"
     ]
    }
   ],
   "source": [
    "## date formats to a consistent type (dd-mm-yyyy)\n",
    "df['Sale_Date'] = df['Sale_Date'].dt.strftime('%d-%m-%Y')\n",
    "print(df)"
   ]
  },
  {
   "cell_type": "markdown",
   "id": "8a7981a6-a8ab-4aa1-8b3a-00c465d94b6d",
   "metadata": {},
   "source": [
    "#### Convert object datatype to category datatype"
   ]
  },
  {
   "cell_type": "code",
   "execution_count": 16,
   "id": "0db7141d-908f-4e80-a766-6f9489a9099e",
   "metadata": {},
   "outputs": [],
   "source": [
    "categorical_cols = ['Sales_Rep', 'Region', 'Product_Category', 'Customer_Type', 'Payment_Method', 'Sales_Channel','Region_and_Sales_Rep']\n",
    "for col in categorical_cols:\n",
    "    df[col] = df[col].astype('category')"
   ]
  },
  {
   "cell_type": "code",
   "execution_count": 17,
   "id": "f88bc953-9cbd-46e3-a63b-a740199ece64",
   "metadata": {},
   "outputs": [
    {
     "data": {
      "text/plain": [
       "Product_ID                 int64\n",
       "Sale_Date                 object\n",
       "Sales_Rep               category\n",
       "Region                  category\n",
       "Sales_Amount             float64\n",
       "Quantity_Sold              int64\n",
       "Product_Category        category\n",
       "Unit_Cost                float64\n",
       "Unit_Price               float64\n",
       "Customer_Type           category\n",
       "Discount                 float64\n",
       "Payment_Method          category\n",
       "Sales_Channel           category\n",
       "Region_and_Sales_Rep    category\n",
       "dtype: object"
      ]
     },
     "execution_count": 17,
     "metadata": {},
     "output_type": "execute_result"
    }
   ],
   "source": [
    " df.dtypes"
   ]
  },
  {
   "cell_type": "code",
   "execution_count": 18,
   "id": "708d5360-838a-4e17-bb05-30675b6a6a7a",
   "metadata": {},
   "outputs": [
    {
     "name": "stdout",
     "output_type": "stream",
     "text": [
      "<class 'pandas.core.frame.DataFrame'>\n",
      "RangeIndex: 1000 entries, 0 to 999\n",
      "Data columns (total 14 columns):\n",
      " #   Column                Non-Null Count  Dtype   \n",
      "---  ------                --------------  -----   \n",
      " 0   Product_ID            1000 non-null   int64   \n",
      " 1   Sale_Date             1000 non-null   object  \n",
      " 2   Sales_Rep             1000 non-null   category\n",
      " 3   Region                1000 non-null   category\n",
      " 4   Sales_Amount          1000 non-null   float64 \n",
      " 5   Quantity_Sold         1000 non-null   int64   \n",
      " 6   Product_Category      1000 non-null   category\n",
      " 7   Unit_Cost             1000 non-null   float64 \n",
      " 8   Unit_Price            1000 non-null   float64 \n",
      " 9   Customer_Type         1000 non-null   category\n",
      " 10  Discount              1000 non-null   float64 \n",
      " 11  Payment_Method        1000 non-null   category\n",
      " 12  Sales_Channel         1000 non-null   category\n",
      " 13  Region_and_Sales_Rep  1000 non-null   category\n",
      "dtypes: category(7), float64(4), int64(2), object(1)\n",
      "memory usage: 63.3+ KB\n"
     ]
    }
   ],
   "source": [
    "df.info() ##memory usage reduce by converting into categorical"
   ]
  },
  {
   "cell_type": "markdown",
   "id": "4b35b9a7-87f3-4bb9-a30d-0995240e6990",
   "metadata": {},
   "source": [
    "#### check if standardizing text values is required\n"
   ]
  },
  {
   "cell_type": "code",
   "execution_count": 19,
   "id": "b1bd231a-f4d7-41c9-a966-4163aad32e81",
   "metadata": {},
   "outputs": [
    {
     "name": "stdout",
     "output_type": "stream",
     "text": [
      "Columns needing standardization:\n",
      " {}\n"
     ]
    }
   ],
   "source": [
    "def check_text_standardization(df):\n",
    "    issues = {}\n",
    "    text_cols = df.select_dtypes(include=['object', 'string']).columns\n",
    "    \n",
    "    for col in text_cols:\n",
    "        col_issues = []\n",
    "        if df[col].str.lower().nunique(dropna=True) != df[col].nunique(dropna=True):\n",
    "            col_issues.append(\"Case inconsistency\")\n",
    "        if df[col].str.strip().nunique(dropna=True) != df[col].nunique(dropna=True):\n",
    "            col_issues.append(\"Whitespace issue\")\n",
    "        orig_unique = df[col].nunique(dropna=True)\n",
    "        norm_unique = df[col].str.lower().str.strip().nunique(dropna=True)\n",
    "        if norm_unique < orig_unique:\n",
    "            col_issues.append(f\"Potential duplicates (unique values drop: {orig_unique} → {norm_unique})\")\n",
    "        if col_issues:\n",
    "            issues[col] = col_issues\n",
    "    return issues\n",
    "\n",
    "issues_found = check_text_standardization(df)\n",
    "print(\"Columns needing standardization:\\n\", issues_found)\n"
   ]
  },
  {
   "cell_type": "markdown",
   "id": "68278a4f-4b55-4b9b-9972-54ea8ae8188a",
   "metadata": {},
   "source": [
    "#### checking if any data cleaning is required in numeric columns"
   ]
  },
  {
   "cell_type": "code",
   "execution_count": 20,
   "id": "3834dc1f-45c5-42b7-bdb3-737a50fe4daa",
   "metadata": {},
   "outputs": [
    {
     "name": "stdout",
     "output_type": "stream",
     "text": [
      "Summary Statistics:\n",
      "                 count        mean          std      min        25%       50%  \\\n",
      "Product_ID     1000.0  1050.12800    29.573505  1001.00  1024.0000  1051.000   \n",
      "Sales_Amount   1000.0  5019.26523  2846.790126   100.12  2550.2975  5019.300   \n",
      "Quantity_Sold  1000.0    25.35500    14.159006     1.00    13.0000    25.000   \n",
      "Unit_Cost      1000.0  2475.30455  1417.872546    60.28  1238.3800  2467.235   \n",
      "Unit_Price     1000.0  2728.44012  1419.399839   167.12  1509.0850  2696.400   \n",
      "Discount       1000.0     0.15239     0.087200     0.00     0.0800     0.150   \n",
      "\n",
      "                    75%      max  \n",
      "Product_ID     1075.000  1100.00  \n",
      "Sales_Amount   7507.445  9989.04  \n",
      "Quantity_Sold    38.000    49.00  \n",
      "Unit_Cost      3702.865  4995.30  \n",
      "Unit_Price     3957.970  5442.15  \n",
      "Discount          0.230     0.30   \n",
      "\n",
      "Negative Values Count:\n",
      " Product_ID       0\n",
      "Sales_Amount     0\n",
      "Quantity_Sold    0\n",
      "Unit_Cost        0\n",
      "Unit_Price       0\n",
      "Discount         0\n",
      "dtype: int64 \n",
      "\n",
      "Invalid Discount Values (not between 0 and 1): 0 \n",
      "\n",
      "Cases where Unit Price < Unit Cost: 0 \n",
      "\n"
     ]
    }
   ],
   "source": [
    "# Select numeric columns\n",
    "numeric_cols = df.select_dtypes(include=['int64', 'float64']).columns\n",
    "\n",
    "# 1. Summary statistics (to check ranges, min/max, etc.)\n",
    "summary_stats = df[numeric_cols].describe().T\n",
    "print(\"Summary Statistics:\\n\", summary_stats, \"\\n\")\n",
    "\n",
    "# 2. Check for negative values\n",
    "negative_values = (df[numeric_cols] < 0).sum()\n",
    "print(\"Negative Values Count:\\n\", negative_values, \"\\n\")\n",
    "\n",
    "# 3. Check if Discount is within valid range [0, 1]\n",
    "discount_issues = df[(df['Discount'] < 0) | (df['Discount'] > 1)].shape[0]\n",
    "print(\"Invalid Discount Values (not between 0 and 1):\", discount_issues, \"\\n\")\n",
    "\n",
    "# 4. Check if Unit_Price is less than Unit_Cost\n",
    "unit_price_issues = df[df['Unit_Price'] < df['Unit_Cost']].shape[0]\n",
    "print(\"Cases where Unit Price < Unit Cost:\", unit_price_issues, \"\\n\")\n"
   ]
  },
  {
   "cell_type": "markdown",
   "id": "0f2964be-a1f5-4c08-a13d-7a0cd6484ea8",
   "metadata": {},
   "source": [
    "#### Save cleaned dataset"
   ]
  },
  {
   "cell_type": "code",
   "execution_count": 21,
   "id": "4956a725-ad75-4f8f-a9a3-8ba9cfbdf6cd",
   "metadata": {},
   "outputs": [
    {
     "name": "stdout",
     "output_type": "stream",
     "text": [
      "Data cleaning and preprocessing completed . Cleaned file saved as: sales_data_cleaned.csv\n"
     ]
    }
   ],
   "source": [
    "\n",
    "cleaned_file_path = 'sales_data_cleaned.csv'\n",
    "df.to_csv(cleaned_file_path, index=False)\n",
    "\n",
    "print(\"Data cleaning and preprocessing completed . Cleaned file saved as:\", cleaned_file_path)"
   ]
  }
 ],
 "metadata": {
  "kernelspec": {
   "display_name": "Python [conda env:base] *",
   "language": "python",
   "name": "conda-base-py"
  },
  "language_info": {
   "codemirror_mode": {
    "name": "ipython",
    "version": 3
   },
   "file_extension": ".py",
   "mimetype": "text/x-python",
   "name": "python",
   "nbconvert_exporter": "python",
   "pygments_lexer": "ipython3",
   "version": "3.13.5"
  }
 },
 "nbformat": 4,
 "nbformat_minor": 5
}
